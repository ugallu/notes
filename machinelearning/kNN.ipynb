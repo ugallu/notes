{
  "nbformat": 4,
  "nbformat_minor": 0,
  "metadata": {
    "colab": {
      "name": "kNN.ipynb",
      "version": "0.3.2",
      "views": {},
      "default_view": {},
      "provenance": []
    }
  },
  "cells": [
    {
      "metadata": {
        "id": "z2i7dyLTusrv",
        "colab_type": "code",
        "colab": {
          "autoexec": {
            "startup": false,
            "wait_interval": 0
          }
        }
      },
      "source": [
        "from sklearn.neighbors import NearestNeighbors\n",
        "import numpy as np\n",
        "X = np.array([[-1, -1], [-2, -1], [-3, -2], [1, 1], [2, 1], [3, 2]])\n"
      ],
      "cell_type": "code",
      "execution_count": 0,
      "outputs": []
    },
    {
      "metadata": {
        "id": "u2neS8Uku3za",
        "colab_type": "code",
        "colab": {
          "autoexec": {
            "startup": false,
            "wait_interval": 0
          }
        }
      },
      "source": [
        "import numpy as np\n",
        "from matplotlib import pyplot as plt"
      ],
      "cell_type": "code",
      "execution_count": 0,
      "outputs": []
    },
    {
      "metadata": {
        "id": "cFEsvKUkxJQc",
        "colab_type": "code",
        "colab": {
          "autoexec": {
            "startup": false,
            "wait_interval": 0
          },
          "output_extras": [
            {
              "item_id": 1
            }
          ],
          "base_uri": "https://localhost:8080/",
          "height": 347
        },
        "outputId": "841fac1a-a40a-4df8-c2e0-fe236c976686",
        "executionInfo": {
          "status": "ok",
          "timestamp": 1510499377405,
          "user_tz": -60,
          "elapsed": 579,
          "user": {
            "displayName": "István Gergely Oláh",
            "photoUrl": "//lh4.googleusercontent.com/-i294OeLvyQc/AAAAAAAAAAI/AAAAAAAAAKE/COeIzae49EQ/s50-c-k-no/photo.jpg",
            "userId": "105548558360556977677"
          }
        }
      },
      "source": [
        "plt.plot(X.T[0],X.T[1],'ro')\n",
        "plt.ylabel('X')\n",
        "plt.show()"
      ],
      "cell_type": "code",
      "execution_count": 26,
      "outputs": [
        {
          "output_type": "display_data",
          "data": {
            "image/png": "[encoded data removed]",
            "text/plain": [
              "<matplotlib.figure.Figure at 0x7f2b586e9b50>"
            ]
          },
          "metadata": {
            "tags": []
          }
        }
      ]
    },
    {
      "metadata": {
        "id": "wSfWSTmQwWfk",
        "colab_type": "code",
        "colab": {
          "autoexec": {
            "startup": false,
            "wait_interval": 0
          }
        }
      },
      "source": [
        "nbrs = NearestNeighbors(n_neighbors=2, algorithm='ball_tree').fit(X)"
      ],
      "cell_type": "code",
      "execution_count": 0,
      "outputs": []
    },
    {
      "metadata": {
        "id": "Ow43f34px6Ar",
        "colab_type": "code",
        "colab": {
          "autoexec": {
            "startup": false,
            "wait_interval": 0
          }
        }
      },
      "source": [
        "distances, indices = nbrs.kneighbors(X)"
      ],
      "cell_type": "code",
      "execution_count": 0,
      "outputs": []
    },
    {
      "metadata": {
        "id": "I7EW7PSsx8Qd",
        "colab_type": "code",
        "colab": {
          "autoexec": {
            "startup": false,
            "wait_interval": 0
          },
          "output_extras": [
            {
              "item_id": 1
            }
          ],
          "base_uri": "https://localhost:8080/",
          "height": 119
        },
        "outputId": "4541c4f9-78b2-4420-fbea-073b922511c6",
        "executionInfo": {
          "status": "ok",
          "timestamp": 1510499411120,
          "user_tz": -60,
          "elapsed": 472,
          "user": {
            "displayName": "István Gergely Oláh",
            "photoUrl": "//lh4.googleusercontent.com/-i294OeLvyQc/AAAAAAAAAAI/AAAAAAAAAKE/COeIzae49EQ/s50-c-k-no/photo.jpg",
            "userId": "105548558360556977677"
          }
        }
      },
      "source": [
        "indices"
      ],
      "cell_type": "code",
      "execution_count": 29,
      "outputs": [
        {
          "output_type": "execute_result",
          "data": {
            "text/plain": [
              "array([[0, 1],\n",
              "       [1, 0],\n",
              "       [2, 1],\n",
              "       [3, 4],\n",
              "       [4, 3],\n",
              "       [5, 4]])"
            ]
          },
          "metadata": {
            "tags": []
          },
          "execution_count": 29
        }
      ]
    },
    {
      "metadata": {
        "id": "KbVc2HIJx-KV",
        "colab_type": "code",
        "colab": {
          "autoexec": {
            "startup": false,
            "wait_interval": 0
          },
          "output_extras": [
            {
              "item_id": 1
            }
          ],
          "base_uri": "https://localhost:8080/",
          "height": 119
        },
        "outputId": "3bd32e92-6930-4d4a-ac36-8b94cfad422d",
        "executionInfo": {
          "status": "ok",
          "timestamp": 1510499418374,
          "user_tz": -60,
          "elapsed": 695,
          "user": {
            "displayName": "István Gergely Oláh",
            "photoUrl": "//lh4.googleusercontent.com/-i294OeLvyQc/AAAAAAAAAAI/AAAAAAAAAKE/COeIzae49EQ/s50-c-k-no/photo.jpg",
            "userId": "105548558360556977677"
          }
        }
      },
      "source": [
        "distances"
      ],
      "cell_type": "code",
      "execution_count": 30,
      "outputs": [
        {
          "output_type": "execute_result",
          "data": {
            "text/plain": [
              "array([[ 0.        ,  1.        ],\n",
              "       [ 0.        ,  1.        ],\n",
              "       [ 0.        ,  1.41421356],\n",
              "       [ 0.        ,  1.        ],\n",
              "       [ 0.        ,  1.        ],\n",
              "       [ 0.        ,  1.41421356]])"
            ]
          },
          "metadata": {
            "tags": []
          },
          "execution_count": 30
        }
      ]
    },
    {
      "metadata": {
        "id": "VmefDOJ0x_4N",
        "colab_type": "code",
        "colab": {
          "autoexec": {
            "startup": false,
            "wait_interval": 0
          },
          "output_extras": [
            {
              "item_id": 1
            }
          ],
          "base_uri": "https://localhost:8080/",
          "height": 119
        },
        "outputId": "2b624396-d876-4f0c-b8e2-bc5cdfce30da",
        "executionInfo": {
          "status": "ok",
          "timestamp": 1510499438023,
          "user_tz": -60,
          "elapsed": 483,
          "user": {
            "displayName": "István Gergely Oláh",
            "photoUrl": "//lh4.googleusercontent.com/-i294OeLvyQc/AAAAAAAAAAI/AAAAAAAAAKE/COeIzae49EQ/s50-c-k-no/photo.jpg",
            "userId": "105548558360556977677"
          }
        }
      },
      "source": [
        "nbrs.kneighbors_graph(X).toarray()"
      ],
      "cell_type": "code",
      "execution_count": 31,
      "outputs": [
        {
          "output_type": "execute_result",
          "data": {
            "text/plain": [
              "array([[ 1.,  1.,  0.,  0.,  0.,  0.],\n",
              "       [ 1.,  1.,  0.,  0.,  0.,  0.],\n",
              "       [ 0.,  1.,  1.,  0.,  0.,  0.],\n",
              "       [ 0.,  0.,  0.,  1.,  1.,  0.],\n",
              "       [ 0.,  0.,  0.,  1.,  1.,  0.],\n",
              "       [ 0.,  0.,  0.,  0.,  1.,  1.]])"
            ]
          },
          "metadata": {
            "tags": []
          },
          "execution_count": 31
        }
      ]
    },
    {
      "metadata": {
        "id": "1NVIhdwhyEug",
        "colab_type": "code",
        "colab": {
          "autoexec": {
            "startup": false,
            "wait_interval": 0
          }
        }
      },
      "source": [
        "from sklearn.neighbors import KDTree"
      ],
      "cell_type": "code",
      "execution_count": 0,
      "outputs": []
    },
    {
      "metadata": {
        "id": "3WQ582RHyk5M",
        "colab_type": "code",
        "colab": {
          "autoexec": {
            "startup": false,
            "wait_interval": 0
          }
        }
      },
      "source": [
        "kdt = KDTree(X, leaf_size=30, metric='euclidean')"
      ],
      "cell_type": "code",
      "execution_count": 0,
      "outputs": []
    },
    {
      "metadata": {
        "id": "4rWBRkt1yoje",
        "colab_type": "code",
        "colab": {
          "autoexec": {
            "startup": false,
            "wait_interval": 0
          },
          "output_extras": [
            {
              "item_id": 1
            }
          ],
          "base_uri": "https://localhost:8080/",
          "height": 119
        },
        "outputId": "9bd2cf75-58a2-43f5-aa20-5c17d55b67b0",
        "executionInfo": {
          "status": "ok",
          "timestamp": 1510499610624,
          "user_tz": -60,
          "elapsed": 518,
          "user": {
            "displayName": "István Gergely Oláh",
            "photoUrl": "//lh4.googleusercontent.com/-i294OeLvyQc/AAAAAAAAAAI/AAAAAAAAAKE/COeIzae49EQ/s50-c-k-no/photo.jpg",
            "userId": "105548558360556977677"
          }
        }
      },
      "source": [
        "kdt.query(X, k=2, return_distance=False) "
      ],
      "cell_type": "code",
      "execution_count": 37,
      "outputs": [
        {
          "output_type": "execute_result",
          "data": {
            "text/plain": [
              "array([[0, 1],\n",
              "       [1, 0],\n",
              "       [2, 1],\n",
              "       [3, 4],\n",
              "       [4, 3],\n",
              "       [5, 4]])"
            ]
          },
          "metadata": {
            "tags": []
          },
          "execution_count": 37
        }
      ]
    },
    {
      "metadata": {
        "id": "ydAy6FhlywMj",
        "colab_type": "code",
        "colab": {
          "autoexec": {
            "startup": false,
            "wait_interval": 0
          }
        }
      },
      "source": [
        "from matplotlib.colors import ListedColormap\n",
        "from sklearn import neighbors, datasets\n",
        "n_neighbors = 2\n",
        "\n",
        "# import some data to play with\n",
        "iris = datasets.load_iris()\n",
        "\n",
        "# we only take the first two features. We could avoid this ugly\n",
        "# slicing by using a two-dim dataset\n",
        "X = iris.data[:, :2]\n",
        "y = iris.target\n",
        "\n",
        "h = .02  # step size in the mesh\n",
        "\n",
        "# Create color maps\n",
        "cmap_light = ListedColormap(['#FFAAAA', '#AAFFAA', '#AAAAFF'])\n",
        "cmap_bold = ListedColormap(['#FF0000', '#00FF00', '#0000FF'])"
      ],
      "cell_type": "code",
      "execution_count": 0,
      "outputs": []
    },
    {
      "metadata": {
        "id": "VhqDIEzA2ubQ",
        "colab_type": "code",
        "colab": {
          "autoexec": {
            "startup": false,
            "wait_interval": 0
          },
          "output_extras": [
            {
              "item_id": 1
            },
            {
              "item_id": 2
            }
          ],
          "base_uri": "https://localhost:8080/",
          "height": 707
        },
        "outputId": "2e5f17e8-9af2-4fff-dd83-f7cbe2f0030e",
        "executionInfo": {
          "status": "ok",
          "timestamp": 1510504707943,
          "user_tz": -60,
          "elapsed": 1008,
          "user": {
            "displayName": "István Gergely Oláh",
            "photoUrl": "//lh4.googleusercontent.com/-i294OeLvyQc/AAAAAAAAAAI/AAAAAAAAAKE/COeIzae49EQ/s50-c-k-no/photo.jpg",
            "userId": "105548558360556977677"
          }
        }
      },
      "source": [
        "for weights in ['uniform', 'distance']:\n",
        "    # we create an instance of Neighbours Classifier and fit the data.\n",
        "    clf = neighbors.KNeighborsClassifier(n_neighbors, weights=weights,metric='minkowski')\n",
        "    clf.fit(X, y)\n",
        "\n",
        "    # Plot the decision boundary. For that, we will assign a color to each\n",
        "    # point in the mesh [x_min, x_max]x[y_min, y_max].\n",
        "    x_min, x_max = X[:, 0].min() - 1, X[:, 0].max() + 1\n",
        "    y_min, y_max = X[:, 1].min() - 1, X[:, 1].max() + 1\n",
        "    xx, yy = np.meshgrid(np.arange(x_min, x_max, h),\n",
        "                         np.arange(y_min, y_max, h))\n",
        "    Z = clf.predict(np.c_[xx.ravel(), yy.ravel()])\n",
        "\n",
        "    # Put the result into a color plot\n",
        "    Z = Z.reshape(xx.shape)\n",
        "    plt.figure()\n",
        "    plt.pcolormesh(xx, yy, Z, cmap=cmap_light)\n",
        "\n",
        "    # Plot also the training points\n",
        "    plt.scatter(X[:, 0], X[:, 1], c=y, cmap=cmap_bold,\n",
        "                edgecolor='k', s=20)\n",
        "    plt.xlim(xx.min(), xx.max())\n",
        "    plt.ylim(yy.min(), yy.max())\n",
        "    plt.title(\"3-Class classification (k = %i, weights = '%s')\"\n",
        "              % (n_neighbors, weights))\n",
        "\n",
        "plt.show()"
      ],
      "cell_type": "code",
      "execution_count": 62,
      "outputs": [
        {
          "output_type": "display_data",
          "data": {
            "image/png": "[encoded data removed]",
            "text/plain": [
              "<matplotlib.figure.Figure at 0x7f2b55190750>"
            ]
          },
          "metadata": {
            "tags": []
          }
        },
        {
          "output_type": "display_data",
          "data": {
            "image/png": "[encoded data removed]",
            "text/plain": [
              "<matplotlib.figure.Figure at 0x7f2b58627310>"
            ]
          },
          "metadata": {
            "tags": []
          }
        }
      ]
    },
    {
      "metadata": {
        "id": "zT7fO-kf2yob",
        "colab_type": "code",
        "colab": {
          "autoexec": {
            "startup": false,
            "wait_interval": 0
          }
        }
      },
      "source": [
        "from sklearn.datasets import fetch_olivetti_faces\n",
        "from sklearn.utils.validation import check_random_state\n",
        "\n",
        "from sklearn.neighbors import KNeighborsRegressor"
      ],
      "cell_type": "code",
      "execution_count": 0,
      "outputs": []
    },
    {
      "metadata": {
        "id": "ab46xNi_Eioz",
        "colab_type": "code",
        "colab": {
          "autoexec": {
            "startup": false,
            "wait_interval": 0
          },
          "output_extras": [
            {
              "item_id": 1
            },
            {
              "item_id": 2
            }
          ],
          "base_uri": "https://localhost:8080/",
          "height": 51
        },
        "outputId": "e598f47b-6adf-440d-f97b-0869b17d6d56",
        "executionInfo": {
          "status": "ok",
          "timestamp": 1510504509967,
          "user_tz": -60,
          "elapsed": 589,
          "user": {
            "displayName": "István Gergely Oláh",
            "photoUrl": "//lh4.googleusercontent.com/-i294OeLvyQc/AAAAAAAAAAI/AAAAAAAAAKE/COeIzae49EQ/s50-c-k-no/photo.jpg",
            "userId": "105548558360556977677"
          }
        }
      },
      "source": [
        "# Load the faces datasets\n",
        "data = fetch_olivetti_faces()\n",
        "targets = data.target\n",
        "\n",
        "data = data.images.reshape((len(data.images), -1))\n",
        "train = data[targets < 30]\n",
        "test = data[targets >= 30]  # Test on independent people\n",
        "\n",
        "# Test on a subset of people\n",
        "n_faces = 5\n",
        "rng = check_random_state(4)\n",
        "face_ids = rng.randint(test.shape[0], size=(n_faces, ))\n",
        "test = test[face_ids, :]\n",
        "\n",
        "n_pixels = data.shape[1]\n",
        "# Upper half of the faces\n",
        "X_train = train[:, :(n_pixels + 1) // 2]\n",
        "# Lower half of the faces\n",
        "y_train = train[:, n_pixels // 2:]\n",
        "X_test = test[:, :(n_pixels + 1) // 2]\n",
        "y_test = test[:, n_pixels // 2:]\n",
        "\n",
        "# Fit estimators\n",
        "ESTIMATORS = {\n",
        "    \"K-nn\": KNeighborsRegressor()\n",
        "}\n",
        "\n",
        "y_test_predict = dict()\n",
        "for name, estimator in ESTIMATORS.items():\n",
        "    estimator.fit(X_train, y_train)\n",
        "    y_test_predict[name] = estimator.predict(X_test)\n",
        "\n",
        "# Plot the completed faces\n",
        "image_shape = (64, 64)\n",
        "\n",
        "n_cols = 1 + len(ESTIMATORS)\n",
        "plt.figure(figsize=(2. * n_cols, 2.26 * n_faces))\n",
        "plt.suptitle(\"Face completion with multi-output estimators\", size=16)"
      ],
      "cell_type": "code",
      "execution_count": 57,
      "outputs": [
        {
          "output_type": "execute_result",
          "data": {
            "text/plain": [
              "Text(0.5,0.98,u'Face completion with multi-output estimators')"
            ]
          },
          "metadata": {
            "tags": []
          },
          "execution_count": 57
        },
        {
          "output_type": "display_data",
          "data": {
            "text/plain": [
              "<matplotlib.figure.Figure at 0x7f2b55208d90>"
            ]
          },
          "metadata": {
            "tags": []
          }
        }
      ]
    },
    {
      "metadata": {
        "id": "Es92C6k0Ek-O",
        "colab_type": "code",
        "colab": {
          "autoexec": {
            "startup": false,
            "wait_interval": 0
          },
          "output_extras": [
            {
              "item_id": 1
            }
          ],
          "base_uri": "https://localhost:8080/",
          "height": 362
        },
        "outputId": "f10fa726-3fee-495d-f4df-9a5197da2abb",
        "executionInfo": {
          "status": "ok",
          "timestamp": 1510504512890,
          "user_tz": -60,
          "elapsed": 1599,
          "user": {
            "displayName": "István Gergely Oláh",
            "photoUrl": "//lh4.googleusercontent.com/-i294OeLvyQc/AAAAAAAAAAI/AAAAAAAAAKE/COeIzae49EQ/s50-c-k-no/photo.jpg",
            "userId": "105548558360556977677"
          }
        }
      },
      "source": [
        "for i in range(n_faces):\n",
        "    true_face = np.hstack((X_test[i], y_test[i]))\n",
        "\n",
        "    if i:\n",
        "        sub = plt.subplot(n_faces, n_cols, i * n_cols + 1)\n",
        "    else:\n",
        "        sub = plt.subplot(n_faces, n_cols, i * n_cols + 1,\n",
        "                          title=\"true faces\")\n",
        "\n",
        "    sub.axis(\"off\")\n",
        "    sub.imshow(true_face.reshape(image_shape),\n",
        "               cmap=plt.cm.gray,\n",
        "               interpolation=\"nearest\")\n",
        "\n",
        "    for j, est in enumerate(sorted(ESTIMATORS)):\n",
        "        completed_face = np.hstack((X_test[i], y_test_predict[est][i]))\n",
        "\n",
        "        if i:\n",
        "            sub = plt.subplot(n_faces, n_cols, i * n_cols + 2 + j)\n",
        "\n",
        "        else:\n",
        "            sub = plt.subplot(n_faces, n_cols, i * n_cols + 2 + j,\n",
        "                              title=est)\n",
        "\n",
        "        sub.axis(\"off\")\n",
        "        sub.imshow(completed_face.reshape(image_shape),\n",
        "                   cmap=plt.cm.gray,\n",
        "                   interpolation=\"nearest\")\n",
        "\n",
        "plt.show()"
      ],
      "cell_type": "code",
      "execution_count": 58,
      "outputs": [
        {
          "output_type": "display_data",
          "data": {
            "image/png": "[encoded data removed]",
            "text/plain": [
              "<matplotlib.figure.Figure at 0x7f2b55208790>"
            ]
          },
          "metadata": {
            "tags": []
          }
        }
      ]
    },
    {
      "metadata": {
        "id": "g4tMIDUhEo-1",
        "colab_type": "code",
        "colab": {
          "autoexec": {
            "startup": false,
            "wait_interval": 0
          }
        }
      },
      "source": [
        ""
      ],
      "cell_type": "code",
      "execution_count": 0,
      "outputs": []
    }
  ]
}